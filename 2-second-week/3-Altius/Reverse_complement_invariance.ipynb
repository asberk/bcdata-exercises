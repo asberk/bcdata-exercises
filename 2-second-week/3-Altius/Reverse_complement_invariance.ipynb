{
 "cells": [
  {
   "cell_type": "markdown",
   "metadata": {},
   "source": [
    "# Encoding reverse complement invariance"
   ]
  },
  {
   "cell_type": "markdown",
   "metadata": {},
   "source": [
    "## Introduction\n",
    "\n",
    "Base pair sequences can be encoded in a variety of different ways (*e.g.,* `TATAAGC...`). For machine learning applications, a commonly used encoding is a *one-hot* encoding: the same sequence above can be represented as the matrix\n",
    "$$\n",
    "\\begin{array}{c}\n",
    "A\\\\\n",
    "C\\\\\n",
    "G\\\\\n",
    "T\n",
    "\\end{array}\n",
    "\\overset{T\\quad A\\quad T\\quad A\\quad A\\quad G\\quad C}{\\left[ \\begin{array}{ccccccc}\n",
    "0 & 1 & 0 & 1 & 1 & 0 & 0 \\\\\n",
    "0 & 0 & 0 & 0 & 0 & 0 & 1 \\\\\n",
    "0 & 0 & 0 & 0 & 0 & 1 & 0 \\\\\n",
    "1 & 0 & 1 & 0 & 0 & 0 & 0\n",
    "\\end{array}\\right]}\n",
    "$$\n",
    "\n",
    "However, we could equally well represent this sequence using complex numbers. For $j \\geq 1$, let $z_j \\in \\mathbb{C}$ encode our *belief* about the identity of the $j$th base pair in the following way. Enforce $|z_j| \\leq 1$ and identify $z_j = 1$ as full belief that $z_j = \\mathtt{A}$; $z_j = -1$ with $z_j = \\mathtt{T}$; $z_j = i$ with $z_j = \\mathtt{C}$; and $z_j = -i$ with $z_j = \\mathtt{G}$. Then we can represent the same sequence as above in the following way:\n",
    "$$\n",
    "\\vec x := \\overset{T \\quad\\, A \\quad\\, T \\quad\\, A \\quad\\, A \\quad\\, G \\quad\\, C}{\\left[\\begin{array}{ccccccc}\n",
    "-1 & 1 & -1 & 1 & 1 & -i & i\n",
    "\\end{array}\\right]}\n",
    "$$"
   ]
  },
  {
   "cell_type": "markdown",
   "metadata": {},
   "source": [
    "Note that intermediate values (*i.e.,* those that are not equal to $1, -1, i, -1$) can be interpreted still as a *strength of belief* about the identity of that base pair. For example, $(1+i)/\\sqrt{2}$ can be interpreted as an equal belief that the identity of that base pair is either `A` or `C`. One thing we lose is the ability to tell the difference between \"maybe A or T but not C or G\" and \"equal belief for A, C, G, T\". We hope this may not pose a problem, since it is typically very unlikely in real life for A and T to be confused, whereas it is relatively more likely for T and C to be confused or A and G (due to the structure and size of the aromatic rings that compose them). "
   ]
  },
  {
   "cell_type": "markdown",
   "metadata": {},
   "source": [
    "## Reverse Complement\n",
    "\n",
    "The reverse complement of a sequence should be identified by a neural network in the same way as the original strand (due to the way that DNA is built). \n",
    "\n",
    "The reverse complement of `TATAAGC` is `GCTTATA`. This would be encoded by the sequence \n",
    "$$\n",
    "\\vec x_{\\mathrm{RC}} := \\overset{G \\quad\\,\\, C \\quad\\,\\, T \\quad\\,\\, T \\quad\\,\\, A \\quad\\,\\, T \\quad\\,\\, A}{\\left[\\begin{array}{ccccccc}\n",
    "-i & i & -1 & -1 & 1 & -1 & 1\n",
    "%-1 & 1 & -1 & 1 & 1 & -i & i\n",
    "\\end{array}\\right]}\n",
    "$$"
   ]
  },
  {
   "cell_type": "markdown",
   "metadata": {},
   "source": [
    "## Invariance under convolution\n",
    "\n",
    "We'd like a sequence and its reverse complement to be invariant under convolution so that when we inject a sequence into a neural network, we can expect it to behave the same way as when we inject its reverse complement. \n",
    "\n",
    "First, define the exchange matrix $J_n \\in \\mathbb{R}^{n\\times n}$ by\n",
    "$$\n",
    "(J_n)_{ij} := \\begin{cases}\n",
    "1 & j = n - i + 1\\\\\n",
    "0 & \\text{otherwise}\n",
    "\\end{cases}\n",
    "$$\n",
    "so that, for example,\n",
    "$$\n",
    "J_3 := \n",
    "\\left[\\begin{array}{rrr}\n",
    "0 & 0 & 1\\\\\n",
    "0 & 1 & 0\\\\\n",
    "1 & 0 & 0 \n",
    "\\end{array} \\right]\n",
    "$$\n",
    "\n",
    "Next, define $K_n := -J_n$. Note that the sequence $\\vec x$ can be transformed into the sequence $\\vec x_{\\mathrm{RC}}$ by left matrix multiplication with $K_n$:\n",
    "\n",
    "$$\n",
    "\\vec x_{\\mathrm{RC}} = K_n \\vec x\n",
    "$$\n",
    "\n",
    "In particular, if the first layer of a neural network is given by \n",
    "$$\n",
    "h(\\vec x) = \\sigma ( W \\vec x + b ) \n",
    "$$\n",
    "for an activation function $\\sigma$, convolutional matrix $W$ and bias $b$, then we would like to demand that \n",
    "$$\n",
    "\\sigma (W \\vec x + b)  = h(\\vec x) = h(\\vec x_{\\mathrm{RC}}) = \\sigma(W K_n \\vec x + b)\n",
    "$$\n",
    "\n",
    "Writing $W = (w_{i,j})_{i,j}$, this constraint is equivalent to the demand that \n",
    "$$\n",
    "W = W K_n\n",
    "\\quad \\iff \\quad \n",
    "w_{i,j} = -w_{i, n-j+1}\n",
    "$$"
   ]
  },
  {
   "cell_type": "markdown",
   "metadata": {},
   "source": [
    "## Next steps: Viability and interpretability\n",
    "\n",
    "It remains to be determined if this particular architecture is too strict a constraint. Typically, convolutional matrices are in some way structured so that they can carry out the convolution... Would imposing this type of parameter pairing destroy that convolutional structure? "
   ]
  },
  {
   "cell_type": "code",
   "execution_count": 1,
   "metadata": {
    "collapsed": true
   },
   "outputs": [],
   "source": [
    "import numpy as np\n",
    "\n",
    "import matplotlib.pyplot as plt\n",
    "%matplotlib inline"
   ]
  },
  {
   "cell_type": "code",
   "execution_count": 2,
   "metadata": {},
   "outputs": [
    {
     "name": "stderr",
     "output_type": "stream",
     "text": [
      "Using TensorFlow backend.\n"
     ]
    }
   ],
   "source": [
    "import tensorflow as tf\n",
    "\n",
    "import keras.backend as K\n",
    "from keras.layers import Conv1D, Dense, Flatten, Input, GlobalMaxPool1D, MaxPool1D, Reshape\n",
    "from keras.models import Model\n",
    "\n",
    "from keras.utils import to_categorical"
   ]
  },
  {
   "cell_type": "markdown",
   "metadata": {},
   "source": [
    "### Helper functions"
   ]
  },
  {
   "cell_type": "code",
   "execution_count": 3,
   "metadata": {
    "collapsed": true
   },
   "outputs": [],
   "source": [
    "bp_row_dict = {'A': 0, 'T': 3, \n",
    "               'C': 1, 'G': 2}\n",
    "row_bp_dict = {0: 'A', 1: 'C',\n",
    "               2: 'G', 3: 'T'}\n",
    "def _basePairToRow(bp):\n",
    "    return bp_row_dict[bp]\n",
    "def _rowToBasePair(row):\n",
    "    return row_bp_dict[row]"
   ]
  },
  {
   "cell_type": "code",
   "execution_count": 4,
   "metadata": {
    "collapsed": true
   },
   "outputs": [],
   "source": [
    "rc_dict = {'A': 'T', 'T': 'A',                \n",
    "           'C': 'G', 'G': 'C'}\n",
    "def _reverseComplementOfBasePair(bp):\n",
    "    return rc_dict[bp]"
   ]
  },
  {
   "cell_type": "code",
   "execution_count": 5,
   "metadata": {
    "collapsed": true
   },
   "outputs": [],
   "source": [
    "\"\"\"\n",
    "seq -> OH\n",
    "seq -> Complex\n",
    "OH -> Complex\n",
    "OH -> seq\n",
    "\n",
    "\"\"\"\n",
    "def seqToOneHot(seq):\n",
    "    # Returns N-by-4 onehot encoding of sequence\n",
    "    from keras.utils import to_categorical\n",
    "    return to_categorical(list(map(_basePairToRow, seq)), num_classes=4)\n",
    "\n",
    "\n",
    "def seqToComplex(seq):\n",
    "    return oneHotToComplex(seqToOneHot(seq))\n",
    "\n",
    "\n",
    "def idxToComplex(idx):\n",
    "    cplx = np.zeros((len(idx), 2))\n",
    "    cplx[idx < 2, idx[idx < 2]] = 1\n",
    "    cplx[idx>1, idx[idx > 1]-3] = -1\n",
    "    return cplx\n",
    "\n",
    "\n",
    "def oneHotToComplex(oh):\n",
    "    Xr = oh[:, 0] - oh[:, 3] # A - T\n",
    "    Xi = oh[:, 1] - oh[:, 2] # C - G\n",
    "    Xabs = np.sqrt(Xr**2 + Xi**2)\n",
    "    Xr = Xr / Xabs\n",
    "    Xi = Xi / Xabs\n",
    "    return np.column_stack((Xr, Xi))\n",
    "\n",
    "\n",
    "def oneHotToSeq(oh):\n",
    "    rows = np.argmax(oh, axis=-1)\n",
    "    return ''.join(['ACGT'[j] for j in rows])\n",
    "\n",
    "\n",
    "def cplxToOneHot(cplx):\n",
    "    AC = cplx[cplx > 0]\n",
    "    TG = -cplx[cplx < 0]\n",
    "    return np.column_stack((AC, TG))\n",
    "\n",
    "\n",
    "def cplxToSeq(cplx):\n",
    "    oneHotToSeq(cplxToOneHot(cplx))\n",
    "    return\n",
    "\n",
    "\n",
    "def reverseComplementOfComplex(cplx):\n",
    "    return -cplx[::-1, :]\n",
    "\n",
    "\n",
    "def reverseComplementOfSeq(seq):\n",
    "    ''.join(map(_reverseComplementOfBasePair, seq))\n",
    "\n",
    "    \n",
    "def reverseComplementOfOneHot(oh):\n",
    "    return oh[::-1, ::-1]"
   ]
  },
  {
   "cell_type": "markdown",
   "metadata": {},
   "source": [
    "### Set up training set"
   ]
  },
  {
   "cell_type": "code",
   "execution_count": 6,
   "metadata": {
    "collapsed": true
   },
   "outputs": [],
   "source": [
    "n_samples = 100000\n",
    "sample_length = 32"
   ]
  },
  {
   "cell_type": "code",
   "execution_count": 7,
   "metadata": {
    "collapsed": true
   },
   "outputs": [],
   "source": [
    "rowNumbers = np.random.randint(4, size=n_samples*sample_length).reshape(n_samples, sample_length)"
   ]
  },
  {
   "cell_type": "code",
   "execution_count": 8,
   "metadata": {},
   "outputs": [],
   "source": [
    "X = np.concatenate([idxToComplex(nums)[np.newaxis, ...] for nums in rowNumbers])"
   ]
  },
  {
   "cell_type": "code",
   "execution_count": 9,
   "metadata": {},
   "outputs": [],
   "source": [
    "# Random labels\n",
    "y = (np.random.randn(n_samples) > 0).astype(int)"
   ]
  },
  {
   "cell_type": "markdown",
   "metadata": {},
   "source": [
    "### Build neural network"
   ]
  },
  {
   "cell_type": "code",
   "execution_count": 10,
   "metadata": {
    "collapsed": true
   },
   "outputs": [],
   "source": [
    "sess = tf.Session()\n",
    "K.set_session(sess)"
   ]
  },
  {
   "cell_type": "code",
   "execution_count": 11,
   "metadata": {
    "collapsed": true
   },
   "outputs": [],
   "source": [
    "input_seq = Input(shape=(32, 2,), dtype='float32')"
   ]
  },
  {
   "cell_type": "code",
   "execution_count": 12,
   "metadata": {},
   "outputs": [],
   "source": [
    "x = Conv1D(16, 8, activation='relu')(input_seq)\n",
    "x = GlobalMaxPool1D()(x)\n",
    "x = Reshape((16,1))(x)\n",
    "x = Conv1D(16, 8, activation='relu', padding='same')(x)\n",
    "x = MaxPool1D()(x)\n",
    "x = Flatten()(x)\n",
    "x = Dense(32, activation='relu')(x)\n",
    "x = Dense(1, activation='sigmoid')(x)\n",
    "\n",
    "model = Model(inputs=input_seq, outputs=x)"
   ]
  },
  {
   "cell_type": "code",
   "execution_count": 13,
   "metadata": {},
   "outputs": [
    {
     "name": "stdout",
     "output_type": "stream",
     "text": [
      "_________________________________________________________________\n",
      "Layer (type)                 Output Shape              Param #   \n",
      "=================================================================\n",
      "input_1 (InputLayer)         (None, 32, 2)             0         \n",
      "_________________________________________________________________\n",
      "conv1d_1 (Conv1D)            (None, 25, 16)            272       \n",
      "_________________________________________________________________\n",
      "global_max_pooling1d_1 (Glob (None, 16)                0         \n",
      "_________________________________________________________________\n",
      "reshape_1 (Reshape)          (None, 16, 1)             0         \n",
      "_________________________________________________________________\n",
      "conv1d_2 (Conv1D)            (None, 16, 16)            144       \n",
      "_________________________________________________________________\n",
      "max_pooling1d_1 (MaxPooling1 (None, 8, 16)             0         \n",
      "_________________________________________________________________\n",
      "flatten_1 (Flatten)          (None, 128)               0         \n",
      "_________________________________________________________________\n",
      "dense_1 (Dense)              (None, 32)                4128      \n",
      "_________________________________________________________________\n",
      "dense_2 (Dense)              (None, 1)                 33        \n",
      "=================================================================\n",
      "Total params: 4,577\n",
      "Trainable params: 4,577\n",
      "Non-trainable params: 0\n",
      "_________________________________________________________________\n"
     ]
    }
   ],
   "source": [
    "model.summary()"
   ]
  },
  {
   "cell_type": "code",
   "execution_count": 14,
   "metadata": {
    "collapsed": true
   },
   "outputs": [],
   "source": [
    "model.compile('adagrad', 'binary_crossentropy', metrics=['accuracy', 'mse'])"
   ]
  },
  {
   "cell_type": "code",
   "execution_count": 15,
   "metadata": {},
   "outputs": [
    {
     "name": "stdout",
     "output_type": "stream",
     "text": [
      "Train on 80000 samples, validate on 20000 samples\n",
      "Epoch 1/30\n",
      "5s - loss: 0.6934 - acc: 0.5009 - mean_squared_error: 0.2501 - val_loss: 0.6932 - val_acc: 0.5012 - val_mean_squared_error: 0.2500\n",
      "Epoch 2/30\n",
      "5s - loss: 0.6932 - acc: 0.5018 - mean_squared_error: 0.2500 - val_loss: 0.6932 - val_acc: 0.4958 - val_mean_squared_error: 0.2500\n",
      "Epoch 3/30\n",
      "5s - loss: 0.6931 - acc: 0.5044 - mean_squared_error: 0.2500 - val_loss: 0.6932 - val_acc: 0.4998 - val_mean_squared_error: 0.2501\n",
      "Epoch 4/30\n",
      "5s - loss: 0.6930 - acc: 0.5067 - mean_squared_error: 0.2499 - val_loss: 0.6932 - val_acc: 0.4984 - val_mean_squared_error: 0.2500\n",
      "Epoch 5/30\n",
      "5s - loss: 0.6929 - acc: 0.5094 - mean_squared_error: 0.2499 - val_loss: 0.6934 - val_acc: 0.5017 - val_mean_squared_error: 0.2501\n",
      "Epoch 6/30\n",
      "5s - loss: 0.6929 - acc: 0.5098 - mean_squared_error: 0.2499 - val_loss: 0.6933 - val_acc: 0.4971 - val_mean_squared_error: 0.2501\n",
      "Epoch 7/30\n",
      "5s - loss: 0.6928 - acc: 0.5132 - mean_squared_error: 0.2498 - val_loss: 0.6933 - val_acc: 0.5022 - val_mean_squared_error: 0.2501\n",
      "Epoch 8/30\n",
      "5s - loss: 0.6927 - acc: 0.5121 - mean_squared_error: 0.2498 - val_loss: 0.6934 - val_acc: 0.4988 - val_mean_squared_error: 0.2501\n",
      "Epoch 9/30\n",
      "5s - loss: 0.6926 - acc: 0.5134 - mean_squared_error: 0.2497 - val_loss: 0.6935 - val_acc: 0.4993 - val_mean_squared_error: 0.2502\n",
      "Epoch 10/30\n",
      "5s - loss: 0.6925 - acc: 0.5138 - mean_squared_error: 0.2497 - val_loss: 0.6935 - val_acc: 0.5014 - val_mean_squared_error: 0.2502\n",
      "Epoch 11/30\n",
      "5s - loss: 0.6925 - acc: 0.5162 - mean_squared_error: 0.2497 - val_loss: 0.6935 - val_acc: 0.5000 - val_mean_squared_error: 0.2502\n",
      "Epoch 12/30\n",
      "5s - loss: 0.6924 - acc: 0.5166 - mean_squared_error: 0.2496 - val_loss: 0.6936 - val_acc: 0.5003 - val_mean_squared_error: 0.2502\n",
      "Epoch 13/30\n",
      "5s - loss: 0.6923 - acc: 0.5177 - mean_squared_error: 0.2496 - val_loss: 0.6937 - val_acc: 0.4990 - val_mean_squared_error: 0.2503\n",
      "Epoch 14/30\n",
      "5s - loss: 0.6922 - acc: 0.5172 - mean_squared_error: 0.2495 - val_loss: 0.6937 - val_acc: 0.4984 - val_mean_squared_error: 0.2503\n",
      "Epoch 15/30\n",
      "5s - loss: 0.6922 - acc: 0.5177 - mean_squared_error: 0.2495 - val_loss: 0.6937 - val_acc: 0.4960 - val_mean_squared_error: 0.2503\n",
      "Epoch 16/30\n",
      "5s - loss: 0.6921 - acc: 0.5173 - mean_squared_error: 0.2495 - val_loss: 0.6942 - val_acc: 0.5005 - val_mean_squared_error: 0.2505\n",
      "Epoch 17/30\n",
      "5s - loss: 0.6921 - acc: 0.5192 - mean_squared_error: 0.2495 - val_loss: 0.6939 - val_acc: 0.4964 - val_mean_squared_error: 0.2504\n",
      "Epoch 18/30\n",
      "5s - loss: 0.6920 - acc: 0.5184 - mean_squared_error: 0.2494 - val_loss: 0.6939 - val_acc: 0.4956 - val_mean_squared_error: 0.2504\n",
      "Epoch 19/30\n",
      "5s - loss: 0.6919 - acc: 0.5215 - mean_squared_error: 0.2494 - val_loss: 0.6940 - val_acc: 0.4968 - val_mean_squared_error: 0.2504\n",
      "Epoch 20/30\n",
      "5s - loss: 0.6918 - acc: 0.5210 - mean_squared_error: 0.2493 - val_loss: 0.6939 - val_acc: 0.5023 - val_mean_squared_error: 0.2504\n",
      "Epoch 21/30\n",
      "5s - loss: 0.6919 - acc: 0.5201 - mean_squared_error: 0.2494 - val_loss: 0.6940 - val_acc: 0.4952 - val_mean_squared_error: 0.2504\n",
      "Epoch 22/30\n",
      "5s - loss: 0.6918 - acc: 0.5215 - mean_squared_error: 0.2493 - val_loss: 0.6940 - val_acc: 0.5020 - val_mean_squared_error: 0.2504\n",
      "Epoch 23/30\n",
      "5s - loss: 0.6917 - acc: 0.5208 - mean_squared_error: 0.2493 - val_loss: 0.6940 - val_acc: 0.4992 - val_mean_squared_error: 0.2504\n",
      "Epoch 24/30\n",
      "5s - loss: 0.6917 - acc: 0.5206 - mean_squared_error: 0.2493 - val_loss: 0.6941 - val_acc: 0.4971 - val_mean_squared_error: 0.2505\n",
      "Epoch 25/30\n",
      "5s - loss: 0.6916 - acc: 0.5217 - mean_squared_error: 0.2493 - val_loss: 0.6943 - val_acc: 0.4962 - val_mean_squared_error: 0.2506\n",
      "Epoch 26/30\n",
      "5s - loss: 0.6916 - acc: 0.5212 - mean_squared_error: 0.2492 - val_loss: 0.6943 - val_acc: 0.4965 - val_mean_squared_error: 0.2505\n",
      "Epoch 27/30\n",
      "5s - loss: 0.6915 - acc: 0.5227 - mean_squared_error: 0.2492 - val_loss: 0.6945 - val_acc: 0.4963 - val_mean_squared_error: 0.2507\n",
      "Epoch 28/30\n",
      "5s - loss: 0.6915 - acc: 0.5236 - mean_squared_error: 0.2492 - val_loss: 0.6943 - val_acc: 0.4966 - val_mean_squared_error: 0.2506\n",
      "Epoch 29/30\n",
      "5s - loss: 0.6914 - acc: 0.5226 - mean_squared_error: 0.2491 - val_loss: 0.6944 - val_acc: 0.4998 - val_mean_squared_error: 0.2506\n",
      "Epoch 30/30\n",
      "6s - loss: 0.6914 - acc: 0.5232 - mean_squared_error: 0.2491 - val_loss: 0.6944 - val_acc: 0.4985 - val_mean_squared_error: 0.2506\n"
     ]
    },
    {
     "data": {
      "text/plain": [
       "<keras.callbacks.History at 0x11be69ef0>"
      ]
     },
     "execution_count": 15,
     "metadata": {},
     "output_type": "execute_result"
    }
   ],
   "source": [
    "model.fit(x=X, y=y, epochs=30, validation_split=.2, verbose=2)"
   ]
  },
  {
   "cell_type": "code",
   "execution_count": null,
   "metadata": {
    "collapsed": true
   },
   "outputs": [],
   "source": []
  },
  {
   "cell_type": "markdown",
   "metadata": {},
   "source": [
    "### Analyze weights and responses"
   ]
  },
  {
   "cell_type": "code",
   "execution_count": 16,
   "metadata": {},
   "outputs": [],
   "source": [
    "W = model.get_weights()"
   ]
  },
  {
   "cell_type": "code",
   "execution_count": 39,
   "metadata": {},
   "outputs": [],
   "source": [
    "def stackFilters(w):\n",
    "    return np.column_stack(w.transpose((2,0,1)))"
   ]
  },
  {
   "cell_type": "code",
   "execution_count": 41,
   "metadata": {},
   "outputs": [
    {
     "data": {
      "text/plain": [
       "<matplotlib.image.AxesImage at 0x1305894a8>"
      ]
     },
     "execution_count": 41,
     "metadata": {},
     "output_type": "execute_result"
    },
    {
     "data": {
      "image/png": "[encoded data removed]",
      "text/plain": [
       "<matplotlib.figure.Figure at 0x130397048>"
      ]
     },
     "metadata": {},
     "output_type": "display_data"
    }
   ],
   "source": [
    "plt.matshow(stackFilters(W[0]).T)"
   ]
  },
  {
   "cell_type": "code",
   "execution_count": 54,
   "metadata": {},
   "outputs": [],
   "source": [
    "X_rc = np.concatenate([reverseComplementOfComplex(x)[np.newaxis, ...] for x in X])"
   ]
  },
  {
   "cell_type": "code",
   "execution_count": 58,
   "metadata": {},
   "outputs": [],
   "source": [
    "y_rc_proba = model.predict(X_rc)"
   ]
  },
  {
   "cell_type": "code",
   "execution_count": 56,
   "metadata": {
    "collapsed": true
   },
   "outputs": [],
   "source": [
    "from sklearn.metrics import accuracy_score"
   ]
  },
  {
   "cell_type": "code",
   "execution_count": 60,
   "metadata": {},
   "outputs": [],
   "source": [
    "y_rc_pred = (y_rc_proba > 0).astype(int) - (y_rc_proba < 0).astype(int)"
   ]
  },
  {
   "cell_type": "code",
   "execution_count": 61,
   "metadata": {},
   "outputs": [
    {
     "data": {
      "text/plain": [
       "0.49980999999999998"
      ]
     },
     "execution_count": 61,
     "metadata": {},
     "output_type": "execute_result"
    }
   ],
   "source": [
    "accuracy_score(y, y_rc_pred)"
   ]
  },
  {
   "cell_type": "markdown",
   "metadata": {},
   "source": [
    "### Now to make the parameter tying happen..."
   ]
  },
  {
   "cell_type": "markdown",
   "metadata": {},
   "source": [
    "Goal: write a keras constraint function that takes care of the weight tying within the same layer. "
   ]
  },
  {
   "cell_type": "code",
   "execution_count": null,
   "metadata": {
    "collapsed": true
   },
   "outputs": [],
   "source": []
  },
  {
   "cell_type": "markdown",
   "metadata": {},
   "source": [
    "## Fancier possibilities\n",
    "\n",
    "In looking for how to handle complex variables in keras, I came across [this paper](https://arxiv.org/pdf/1612.04642.pdf) that defines Harmonic Networks. Associated code is [available here](https://github.com/deworrall92/harmonicConvolutions). It appears at a cursory glance as though such networks could be useful for invariance to reverse complement. "
   ]
  },
  {
   "cell_type": "code",
   "execution_count": null,
   "metadata": {
    "collapsed": true
   },
   "outputs": [],
   "source": []
  },
  {
   "cell_type": "code",
   "execution_count": null,
   "metadata": {
    "collapsed": true
   },
   "outputs": [],
   "source": []
  },
  {
   "cell_type": "code",
   "execution_count": null,
   "metadata": {
    "collapsed": true
   },
   "outputs": [],
   "source": []
  },
  {
   "cell_type": "code",
   "execution_count": null,
   "metadata": {
    "collapsed": true
   },
   "outputs": [],
   "source": []
  },
  {
   "cell_type": "code",
   "execution_count": null,
   "metadata": {
    "collapsed": true
   },
   "outputs": [],
   "source": []
  },
  {
   "cell_type": "code",
   "execution_count": null,
   "metadata": {
    "collapsed": true
   },
   "outputs": [],
   "source": []
  },
  {
   "cell_type": "code",
   "execution_count": null,
   "metadata": {
    "collapsed": true
   },
   "outputs": [],
   "source": []
  },
  {
   "cell_type": "code",
   "execution_count": null,
   "metadata": {
    "collapsed": true
   },
   "outputs": [],
   "source": []
  },
  {
   "cell_type": "code",
   "execution_count": null,
   "metadata": {
    "collapsed": true
   },
   "outputs": [],
   "source": []
  }
 ],
 "metadata": {
  "kernelspec": {
   "display_name": "Python [conda root]",
   "language": "python",
   "name": "conda-root-py"
  },
  "language_info": {
   "codemirror_mode": {
    "name": "ipython",
    "version": 3
   },
   "file_extension": ".py",
   "mimetype": "text/x-python",
   "name": "python",
   "nbconvert_exporter": "python",
   "pygments_lexer": "ipython3",
   "version": "3.5.3"
  },
  "toc": {
   "colors": {
    "hover_highlight": "#DAA520",
    "navigate_num": "#000000",
    "navigate_text": "#333333",
    "running_highlight": "#FF0000",
    "selected_highlight": "#FFD700",
    "sidebar_border": "#EEEEEE",
    "wrapper_background": "#FFFFFF"
   },
   "moveMenuLeft": true,
   "nav_menu": {
    "height": "83px",
    "width": "252px"
   },
   "navigate_menu": true,
   "number_sections": true,
   "sideBar": true,
   "threshold": 4,
   "toc_cell": false,
   "toc_section_display": "block",
   "toc_window_display": false,
   "widenNotebook": false
  }
 },
 "nbformat": 4,
 "nbformat_minor": 2
}
