{
 "cells": [
  {
   "cell_type": "markdown",
   "metadata": {},
   "source": [
    "# Action plan\n",
    "\n",
    "## Goal\n",
    "\n",
    "The goal here is to take in a very large point cloud and use mini batch k means to cluster the points into texture/land types. \n",
    "\n",
    "To do this, I must be able to read in the data in batches.\n",
    "\n",
    "The data I want to read in are points with associated patches about them that have features for composed of their neighbours information. \n",
    "\n",
    "e.g. \n",
    "\n",
    "for a point at (lon, lat) = (x0, y0), I take it and its closest 8 neighbours { (x1, y1), ..., (x8, y8) } and use them to poll the data to construct the feature vector/array ((z0, r0, g0, b0), (z1, r1, g1, b1), ..., (z8, r8, g8, b8)). \n",
    "\n",
    "If I could get this data for 1000 points at a time, then I could do 1000-pixel minibatches of minibatchKMeans. "
   ]
  },
  {
   "cell_type": "markdown",
   "metadata": {},
   "source": [
    "# Import packages"
   ]
  },
  {
   "cell_type": "code",
   "execution_count": null,
   "metadata": {
    "collapsed": true
   },
   "outputs": [],
   "source": [
    "import pandas as pd\n",
    "import numpy as np\n",
    "import matplotlib.pyplot as plt\n",
    "\n",
    "%matplotlib inline"
   ]
  },
  {
   "cell_type": "code",
   "execution_count": null,
   "metadata": {
    "collapsed": true
   },
   "outputs": [],
   "source": [
    "from DataLoader import DataLoader"
   ]
  },
  {
   "cell_type": "code",
   "execution_count": null,
   "metadata": {
    "collapsed": true
   },
   "outputs": [],
   "source": [
    "from helper_functions import hist3d"
   ]
  },
  {
   "cell_type": "markdown",
   "metadata": {},
   "source": [
    "# Read in data"
   ]
  },
  {
   "cell_type": "code",
   "execution_count": null,
   "metadata": {
    "collapsed": true
   },
   "outputs": [],
   "source": [
    "POINT_RESOLUTION = 1e-6 # ~10 cm\n",
    "dl = DataLoader()"
   ]
  },
  {
   "cell_type": "code",
   "execution_count": null,
   "metadata": {
    "collapsed": true
   },
   "outputs": [],
   "source": [
    "dl.readData()"
   ]
  },
  {
   "cell_type": "code",
   "execution_count": null,
   "metadata": {
    "collapsed": true
   },
   "outputs": [],
   "source": [
    "dl.data[0].head()"
   ]
  },
  {
   "cell_type": "markdown",
   "metadata": {},
   "source": [
    "# Construct neighbours graph"
   ]
  },
  {
   "cell_type": "code",
   "execution_count": null,
   "metadata": {
    "collapsed": true
   },
   "outputs": [],
   "source": [
    "dl.saveKNeighboursBatch(1000000)"
   ]
  },
  {
   "cell_type": "code",
   "execution_count": null,
   "metadata": {
    "collapsed": true
   },
   "outputs": [],
   "source": []
  },
  {
   "cell_type": "code",
   "execution_count": null,
   "metadata": {
    "collapsed": true
   },
   "outputs": [],
   "source": []
  },
  {
   "cell_type": "code",
   "execution_count": null,
   "metadata": {
    "collapsed": true
   },
   "outputs": [],
   "source": []
  },
  {
   "cell_type": "code",
   "execution_count": null,
   "metadata": {
    "collapsed": true
   },
   "outputs": [],
   "source": [
    "lonlat = dl.getLonLatPairs()"
   ]
  },
  {
   "cell_type": "code",
   "execution_count": null,
   "metadata": {
    "collapsed": true
   },
   "outputs": [],
   "source": [
    "lon_unique, lat_unique = dl.uniqueLonLat()"
   ]
  },
  {
   "cell_type": "code",
   "execution_count": null,
   "metadata": {
    "collapsed": true
   },
   "outputs": [],
   "source": [
    "lonlat_unique = dl.uniqueLonLatPairs()"
   ]
  },
  {
   "cell_type": "code",
   "execution_count": null,
   "metadata": {
    "collapsed": true
   },
   "outputs": [],
   "source": [
    "# A little show of sparsity:\n",
    "point_sparsity = lonlat_unique.shape[0] / (lat_unique.size * lon_unique.size)\n",
    "print('density of recorded unique pairs is only {}.'.format(np.round(point_sparsity, 3)))"
   ]
  },
  {
   "cell_type": "code",
   "execution_count": null,
   "metadata": {
    "collapsed": true
   },
   "outputs": [],
   "source": [
    "hist3d(dl.getScaledRgbArray(), azim=-105)"
   ]
  },
  {
   "cell_type": "markdown",
   "metadata": {},
   "source": [
    "# Finding lonlat neighbours"
   ]
  },
  {
   "cell_type": "code",
   "execution_count": null,
   "metadata": {
    "collapsed": true
   },
   "outputs": [],
   "source": [
    "from sklearn.neighbors import NearestNeighbors"
   ]
  },
  {
   "cell_type": "markdown",
   "metadata": {},
   "source": [
    "## Nearest Neighbours"
   ]
  },
  {
   "cell_type": "code",
   "execution_count": null,
   "metadata": {
    "collapsed": true
   },
   "outputs": [],
   "source": [
    "NBR_RADIUS = 1e-5 # ~1 metre?\n",
    "\n",
    "neigh = NearestNeighbors(n_neighbors=10, radius=NBR_RADIUS, n_jobs=-1)\n",
    "neigh.fit(lonlat)"
   ]
  },
  {
   "cell_type": "code",
   "execution_count": null,
   "metadata": {
    "collapsed": true
   },
   "outputs": [],
   "source": [
    "BATCH_SIZE = 1000000\n",
    "batch_number = 0\n",
    "start_idx = batch_number * BATCH_SIZE\n",
    "end_idx = (batch_number + 1) * BATCH_SIZE\n",
    "\n",
    "while end_idx < lonlat_unique.shape[0]-1:\n",
    "    kneighBatch = neigh.kneighbors(lonlat_unique[start_idx:end_idx], \n",
    "                                   return_distance=False)\n",
    "    fileName = './radNeigh_lonlatUnique_{}_{}.npy'.format(dl.group_number, batch_number)\n",
    "    np.save(fileName, kneighBatch)\n",
    "    print('Batch {} complete.'.format(batch_number))\n",
    "    start_idx = end_idx\n",
    "    batch_number += 1\n",
    "    end_idx = (batch_number + 1) * BATCH_SIZE\n",
    "\n",
    "end_idx = lonlat_unique.shape[0]\n",
    "kneighBatch = neigh.kneighbors(lonlat_unique[start_idx:end_idx], \n",
    "                               return_distance=False)\n",
    "fileName = './radNeigh_lonlatUnique_{}_{}.npy'.format(dl.group_number, batch_number)\n",
    "np.save(fileName, kneighBatch)\n",
    "print('Batch {} complete.'.format(batch_number))"
   ]
  },
  {
   "cell_type": "code",
   "execution_count": null,
   "metadata": {
    "collapsed": true
   },
   "outputs": [],
   "source": [
    "!ls -lh radNeigh_lonlatUnique*"
   ]
  },
  {
   "cell_type": "code",
   "execution_count": null,
   "metadata": {
    "collapsed": true
   },
   "outputs": [],
   "source": [
    "from sklearn.metrics import jaccard_similarity_score"
   ]
  },
  {
   "cell_type": "code",
   "execution_count": null,
   "metadata": {
    "collapsed": true
   },
   "outputs": [],
   "source": [
    "def _jaccard(arr1, arr2, assume_unique=True):\n",
    "    AcapB = np.intersect1d(arr1, arr2, assume_unique=assume_unique).size\n",
    "    AcupB = np.union1d(arr1, arr2).size\n",
    "    return AcapB/AcupB"
   ]
  },
  {
   "cell_type": "code",
   "execution_count": null,
   "metadata": {
    "collapsed": true
   },
   "outputs": [],
   "source": [
    "import scipy.sparse as sparse"
   ]
  },
  {
   "cell_type": "code",
   "execution_count": null,
   "metadata": {
    "collapsed": true
   },
   "outputs": [],
   "source": [
    "def groupJaccard(arrList, verbose=False):\n",
    "    L = len(arrList)\n",
    "    jaccArr = sparse.dok_matrix((L,L))\n",
    "    for k1 in range(L):\n",
    "        if verbose and ((k1 % 50) == 0):\n",
    "            print('\\n{} of {}'.format(k1+1, L))\n",
    "        for k2 in range(k1+1, L):\n",
    "            if verbose and ((k2 % 1000) == 0):\n",
    "                print('\\t{} of {}'.format(k2-k1, L-k1), end='\\r')\n",
    "            jaccArr[k1, k2] = _jaccard(arrList[k1], arrList[k2])\n",
    "    return jaccArr"
   ]
  },
  {
   "cell_type": "code",
   "execution_count": null,
   "metadata": {
    "collapsed": true
   },
   "outputs": [],
   "source": [
    "shuffling"
   ]
  },
  {
   "cell_type": "code",
   "execution_count": null,
   "metadata": {
    "collapsed": true
   },
   "outputs": [],
   "source": [
    "jaccArr = groupJaccard(radNeigh_lonlatUnique, verbose=True)"
   ]
  },
  {
   "cell_type": "code",
   "execution_count": null,
   "metadata": {
    "collapsed": true
   },
   "outputs": [],
   "source": []
  },
  {
   "cell_type": "code",
   "execution_count": null,
   "metadata": {
    "collapsed": true
   },
   "outputs": [],
   "source": [
    "np.setdiff1d(neigh.radius_neighbors(lonlat[:1, :], \n",
    "                                    radius=5e-6, \n",
    "                                    return_distance=False)[0],\n",
    "             neigh.radius_neighbors(lonlat[:1, :], \n",
    "                                    radius=1e-10, \n",
    "                                    return_distance=False)[0])"
   ]
  },
  {
   "cell_type": "code",
   "execution_count": null,
   "metadata": {
    "collapsed": true
   },
   "outputs": [],
   "source": []
  },
  {
   "cell_type": "code",
   "execution_count": null,
   "metadata": {
    "collapsed": true
   },
   "outputs": [],
   "source": []
  },
  {
   "cell_type": "code",
   "execution_count": null,
   "metadata": {
    "collapsed": true
   },
   "outputs": [],
   "source": [
    "th_lon = smallestDiff(lon_unique, random=False)\n",
    "th_lat = smallestDiff(lat_unique, random=False)\n",
    "th_rad = np.linalg.norm([th_lon, th_lat])\n",
    "print((th_lon, th_lat, th_rad))\n",
    "# Expecting (9.9999999747524271e-07, 9.9999999747524271e-07, 1.4142135588025491e-06) for this\n",
    "\n",
    "# define neighbourhood radius\n",
    "rho = 3\n",
    "th_nbr = rho * th_rad\n",
    "print('neighbourhood radius: {}'.format(th_nbr))"
   ]
  },
  {
   "cell_type": "code",
   "execution_count": null,
   "metadata": {
    "collapsed": true
   },
   "outputs": [],
   "source": [
    "near_equal(lonlat[0,0], lonlat[0,1], lon_unique, lat_unique, 1e-5)"
   ]
  },
  {
   "cell_type": "markdown",
   "metadata": {},
   "source": [
    "Next up: \n",
    "* define a method that gets the colour data for each of these points\n",
    "* define a method that will do this for the first N points of lonlat\n",
    "* turn all of that into a generator that will work with mbKMeans partial_fit"
   ]
  },
  {
   "cell_type": "code",
   "execution_count": null,
   "metadata": {
    "collapsed": true
   },
   "outputs": [],
   "source": [
    "def getNeighbours(lonlat, lon_vec, lat_vec, th=None):\n",
    "    if (isinstance(lonlat, tuple) or isinstance(lonlat, list)) and (len(lonlat) == 2):\n",
    "        # assume lonlat is a tuple of lists\n",
    "        return {(lon, lat): near_equal(lon, lat, lon_vec, lat_vec, th) \n",
    "                for lon in lonlat[0] for lat in lonlat[1]}\n",
    "    elif isinstance(lonlat, np.ndarray):\n",
    "        return {(lon, lat): near_equal(lon, lat, lon_vec, lat_vec, th) \n",
    "                for lon,lat in lonlat}\n",
    "    else:\n",
    "        raise ValueError('Unsure how to parse unknown type lonlat')"
   ]
  },
  {
   "cell_type": "code",
   "execution_count": null,
   "metadata": {
    "collapsed": true
   },
   "outputs": [],
   "source": [
    "viridis_ = plt.cm.viridis(np.arange(300))[::30]"
   ]
  },
  {
   "cell_type": "code",
   "execution_count": null,
   "metadata": {
    "collapsed": true
   },
   "outputs": [],
   "source": [
    "for j, (k,v) in enumerate(getNeighbours(lonlat[:10,:], lon_unique, lat_unique, th_nbr).items()):\n",
    "    plt.plot(v[:,0], v[:,1], color=viridis_[j])"
   ]
  },
  {
   "cell_type": "code",
   "execution_count": null,
   "metadata": {
    "collapsed": true
   },
   "outputs": [],
   "source": [
    "asdf = {1: np.array([1,2,3]), 2: np.array([1,2,3]), 4: np.array([1,2,3])}"
   ]
  },
  {
   "cell_type": "code",
   "execution_count": null,
   "metadata": {
    "collapsed": true
   },
   "outputs": [],
   "source": [
    "np.vstack(asdf.values())"
   ]
  },
  {
   "cell_type": "code",
   "execution_count": null,
   "metadata": {
    "collapsed": true
   },
   "outputs": [],
   "source": [
    "def getColour(lon, lat):\n",
    "    return colour"
   ]
  },
  {
   "cell_type": "code",
   "execution_count": null,
   "metadata": {
    "collapsed": true
   },
   "outputs": [],
   "source": []
  },
  {
   "cell_type": "code",
   "execution_count": null,
   "metadata": {
    "collapsed": true
   },
   "outputs": [],
   "source": []
  },
  {
   "cell_type": "code",
   "execution_count": null,
   "metadata": {
    "collapsed": true
   },
   "outputs": [],
   "source": []
  },
  {
   "cell_type": "code",
   "execution_count": null,
   "metadata": {
    "collapsed": true
   },
   "outputs": [],
   "source": []
  },
  {
   "cell_type": "code",
   "execution_count": null,
   "metadata": {
    "collapsed": true
   },
   "outputs": [],
   "source": []
  },
  {
   "cell_type": "markdown",
   "metadata": {},
   "source": [
    "# Converting colours"
   ]
  },
  {
   "cell_type": "code",
   "execution_count": null,
   "metadata": {
    "collapsed": true
   },
   "outputs": [],
   "source": [
    "from skimage import color"
   ]
  },
  {
   "cell_type": "code",
   "execution_count": null,
   "metadata": {
    "collapsed": true
   },
   "outputs": [],
   "source": [
    "color.rgb2lab(np.random.rand(2, 1, 3))"
   ]
  },
  {
   "cell_type": "code",
   "execution_count": null,
   "metadata": {
    "collapsed": true
   },
   "outputs": [],
   "source": []
  },
  {
   "cell_type": "code",
   "execution_count": null,
   "metadata": {
    "collapsed": true
   },
   "outputs": [],
   "source": []
  },
  {
   "cell_type": "code",
   "execution_count": null,
   "metadata": {
    "collapsed": true
   },
   "outputs": [],
   "source": []
  },
  {
   "cell_type": "code",
   "execution_count": null,
   "metadata": {
    "collapsed": true
   },
   "outputs": [],
   "source": []
  },
  {
   "cell_type": "code",
   "execution_count": null,
   "metadata": {
    "collapsed": true
   },
   "outputs": [],
   "source": []
  },
  {
   "cell_type": "code",
   "execution_count": null,
   "metadata": {
    "collapsed": true
   },
   "outputs": [],
   "source": []
  },
  {
   "cell_type": "markdown",
   "metadata": {},
   "source": [
    "MiniBatch KMeans"
   ]
  },
  {
   "cell_type": "code",
   "execution_count": null,
   "metadata": {
    "collapsed": true
   },
   "outputs": [],
   "source": [
    "from sklearn.cluster import MiniBatchKMeans as mbKMeans"
   ]
  },
  {
   "cell_type": "code",
   "execution_count": null,
   "metadata": {
    "collapsed": true
   },
   "outputs": [],
   "source": [
    "mbkm = mbKMeans(n_clusters=10, verbose=True)"
   ]
  },
  {
   "cell_type": "code",
   "execution_count": null,
   "metadata": {
    "collapsed": true
   },
   "outputs": [],
   "source": [
    "for k in sorted(data.keys()):\n",
    "    mbkm.partial_fit(data[k].loc[:, ['r', 'g', 'b']].values)"
   ]
  },
  {
   "cell_type": "markdown",
   "metadata": {},
   "source": [
    "Plot resulting centers"
   ]
  },
  {
   "cell_type": "code",
   "execution_count": null,
   "metadata": {
    "collapsed": true
   },
   "outputs": [],
   "source": [
    "y = [0 for _ in range(10)]\n",
    "x = range(10)\n",
    "\n",
    "plt.scatter(x, y, c=mbkm.cluster_centers_/255, s=1000)"
   ]
  }
 ],
 "metadata": {
  "kernelspec": {
   "display_name": "Python 3",
   "language": "python",
   "name": "python3"
  },
  "language_info": {
   "codemirror_mode": {
    "name": "ipython",
    "version": 3
   },
   "file_extension": ".py",
   "mimetype": "text/x-python",
   "name": "python",
   "nbconvert_exporter": "python",
   "pygments_lexer": "ipython3",
   "version": "3.6.1"
  }
 },
 "nbformat": 4,
 "nbformat_minor": 2
}
