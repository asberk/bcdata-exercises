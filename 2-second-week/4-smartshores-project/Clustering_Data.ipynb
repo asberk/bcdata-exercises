{
 "cells": [
  {
   "cell_type": "code",
   "execution_count": null,
   "metadata": {
    "collapsed": true
   },
   "outputs": [],
   "source": [
    "import pandas as pd\n",
    "import numpy as np\n",
    "import matplotlib.pyplot as plt\n",
    "\n",
    "%matplotlib inline"
   ]
  },
  {
   "cell_type": "code",
   "execution_count": null,
   "metadata": {
    "collapsed": true
   },
   "outputs": [],
   "source": [
    "def read_data(**kwargs):\n",
    "    from pandas import read_csv as _csv\n",
    "    total_rows = 57891462\n",
    "    column_names = kwargs.get('column_names',\n",
    "                              ['lon', 'lat', 'z', 'r',\n",
    "                               'g', 'b', 'j', 'k', 'l'])\n",
    "    max_rows = kwargs.get('max_rows', int(15 * 1e6))\n",
    "    nrows = kwargs.get('nrows', int(5 * 1e5))\n",
    "    skip = kwargs.get('skip', 0)\n",
    "    verbose = kwargs.get('verbose', False)\n",
    "    fp = kwargs.get('filepath', \n",
    "                    '~/data/4-Vadeboncoeur/davis-bay.txt')\n",
    "    data = {}\n",
    "    ctr = 0\n",
    "    while skip + nrows < np.min([total_rows, max_rows]):\n",
    "        data[ctr] = _csv(fp, sep=\" \", header=None, \n",
    "                         skiprows=skip, nrows=nrows)\n",
    "        data[ctr].columns = column_names\n",
    "        skip += nrows\n",
    "        ctr += 1\n",
    "        if verbose:\n",
    "            print('\\rrows read: {}'.format(skip))\n",
    "    return data"
   ]
  },
  {
   "cell_type": "code",
   "execution_count": null,
   "metadata": {
    "collapsed": true
   },
   "outputs": [],
   "source": [
    "data = read_data()"
   ]
  },
  {
   "cell_type": "code",
   "execution_count": null,
   "metadata": {},
   "outputs": [],
   "source": [
    "def _getLonLatPairs(df):\n",
    "    return df.loc[:, ['lon', 'lat']].values\n",
    "\n",
    "def getLonLatPairs(dfDict, concat=False):\n",
    "    if concat:\n",
    "        return np.vstack([_getLonLatPairs(v) for v in dfDict.values()])\n",
    "    else:\n",
    "        return {k: _getLonLatPairs(v) for k, v in dfDict.items()}"
   ]
  },
  {
   "cell_type": "code",
   "execution_count": null,
   "metadata": {
    "collapsed": true
   },
   "outputs": [],
   "source": [
    "lonlat = getLonLatPairs(data, concat=True)"
   ]
  },
  {
   "cell_type": "code",
   "execution_count": null,
   "metadata": {},
   "outputs": [],
   "source": [
    "lon_unique = np.unique(lonlat[:,0])\n",
    "lat_unique = np.unique(lonlat[:,1])"
   ]
  },
  {
   "cell_type": "code",
   "execution_count": null,
   "metadata": {
    "collapsed": true
   },
   "outputs": [],
   "source": [
    "def smallestDiff(vec, patience=50):\n",
    "    smallest = np.inf\n",
    "    vvec = np.random.permutation(vec)\n",
    "    for j, v in enumerate(vvec):\n",
    "        for k, w in enumerate(vvec[j+1:]):\n",
    "            diff = np.abs(v - w)\n",
    "            if diff < smallest:\n",
    "                smallest = diff\n",
    "            else:\n",
    "                patience -= 1\n",
    "            if patience <= 0:\n",
    "                break\n",
    "    return smallest"
   ]
  },
  {
   "cell_type": "code",
   "execution_count": null,
   "metadata": {},
   "outputs": [],
   "source": [
    "th_lon = smallestDiff(lon_unique)\n",
    "th_lat = smallestDiff(lat_unique)\n",
    "print((th_lon, th_lat, np.linalg.norm([th_lon, th_lat])))"
   ]
  },
  {
   "cell_type": "markdown",
   "metadata": {},
   "source": [
    "We should be expecting (9.9999999747524271e-07, 9.9999999747524271e-07, 1.4142135588025491e-06) here. "
   ]
  },
  {
   "cell_type": "code",
   "execution_count": null,
   "metadata": {
    "collapsed": true
   },
   "outputs": [],
   "source": [
    "rho = 3\n",
    "th_nbr = rho * np.linalg.norm([th_lon, th_lat])"
   ]
  },
  {
   "cell_type": "code",
   "execution_count": null,
   "metadata": {},
   "outputs": [],
   "source": [
    "from sklearn.cluster import MiniBatchKMeans as mbKMeans"
   ]
  },
  {
   "cell_type": "code",
   "execution_count": null,
   "metadata": {
    "collapsed": true
   },
   "outputs": [],
   "source": [
    "mbkm = mbKMeans(n_clusters=10, verbose=True)"
   ]
  },
  {
   "cell_type": "code",
   "execution_count": null,
   "metadata": {
    "collapsed": true
   },
   "outputs": [],
   "source": [
    "for k in sorted(data.keys()):\n",
    "    mbkm.partial_fit(data[k].loc[:, ['r', 'g', 'b']].values)"
   ]
  },
  {
   "cell_type": "code",
   "execution_count": null,
   "metadata": {
    "collapsed": true
   },
   "outputs": [],
   "source": [
    "y = [0 for _ in range(10)]\n",
    "x = range(10)"
   ]
  },
  {
   "cell_type": "code",
   "execution_count": null,
   "metadata": {},
   "outputs": [],
   "source": [
    "mbkm.cluster_centers_"
   ]
  },
  {
   "cell_type": "code",
   "execution_count": null,
   "metadata": {},
   "outputs": [],
   "source": [
    "plt.scatter(x, y, c=mbkm.cluster_centers_/255, s=1000)"
   ]
  },
  {
   "cell_type": "code",
   "execution_count": null,
   "metadata": {
    "collapsed": true
   },
   "outputs": [],
   "source": [
    "def getNeighbourList(arr, th):\n",
    "    for row in arr:\n",
    "        "
   ]
  },
  {
   "cell_type": "code",
   "execution_count": null,
   "metadata": {},
   "outputs": [],
   "source": [
    "data[1].head()"
   ]
  },
  {
   "cell_type": "code",
   "execution_count": null,
   "metadata": {},
   "outputs": [],
   "source": [
    "column_names = ['lon', 'lat', 'z', 'r', 'g', 'b', 'j', 'k', 'l']\n",
    "data.columns = column_names\n",
    "print('data.shape = {}'.format(data.shape))\n",
    "data.head()"
   ]
  },
  {
   "cell_type": "code",
   "execution_count": null,
   "metadata": {},
   "outputs": [],
   "source": [
    "data.describe().loc[['min', 'max'], ['lat','lon']]"
   ]
  },
  {
   "cell_type": "code",
   "execution_count": null,
   "metadata": {
    "collapsed": true
   },
   "outputs": [],
   "source": [
    "data_by_lon = data.groupby('lon')\n",
    "lon_123_729523 = data_by_lon.get_group(-123.729523)\n",
    "lon_123_729523_by_lat = lon_123_729523.groupby('lat')\n",
    "lon_123_729523_lat_49_442196 = lon_123_729523_by_lat.get_group(49.442196)"
   ]
  },
  {
   "cell_type": "code",
   "execution_count": null,
   "metadata": {
    "collapsed": true
   },
   "outputs": [],
   "source": [
    "plt.scatter(lon_123_729523_lat_49_442196['j'].values, lon_123_729523_lat_49_442196['k'].values, c=lon_123_729523_lat_49_442196.loc[:,['r', 'g', 'b']].values/255, s=10000)"
   ]
  }
 ],
 "metadata": {
  "kernelspec": {
   "display_name": "Python 3",
   "language": "python",
   "name": "python3"
  },
  "language_info": {
   "codemirror_mode": {
    "name": "ipython",
    "version": 3
   },
   "file_extension": ".py",
   "mimetype": "text/x-python",
   "name": "python",
   "nbconvert_exporter": "python",
   "pygments_lexer": "ipython3",
   "version": "3.6.1"
  }
 },
 "nbformat": 4,
 "nbformat_minor": 2
}
