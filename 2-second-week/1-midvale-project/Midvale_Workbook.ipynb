{
 "cells": [
  {
   "cell_type": "markdown",
   "metadata": {},
   "source": [
    "# Import packages"
   ]
  },
  {
   "cell_type": "code",
   "execution_count": null,
   "metadata": {
    "collapsed": true
   },
   "outputs": [],
   "source": [
    "import numpy as np\n",
    "import pandas as pd\n",
    "import matplotlib.pyplot as plt\n",
    "%matplotlib inline"
   ]
  },
  {
   "cell_type": "markdown",
   "metadata": {},
   "source": [
    "# Read data"
   ]
  },
  {
   "cell_type": "code",
   "execution_count": null,
   "metadata": {},
   "outputs": [],
   "source": [
    "data = pd.read_csv('/home/asberk/data/1-Donaldson/AllData.csv')"
   ]
  },
  {
   "cell_type": "code",
   "execution_count": null,
   "metadata": {},
   "outputs": [],
   "source": [
    "data.head()"
   ]
  },
  {
   "cell_type": "code",
   "execution_count": null,
   "metadata": {},
   "outputs": [],
   "source": [
    "from pprint import pprint\n",
    "pprint(data.columns.tolist())"
   ]
  },
  {
   "cell_type": "code",
   "execution_count": null,
   "metadata": {
    "collapsed": true
   },
   "outputs": [],
   "source": [
    "column_datatypes = {'Index': np.int64, \n",
    "                    'CameraName': 'category', \n",
    "                    'PrimaryResolution': 'category',\n",
    "                    'SecondaryResolution' : 'category',\n",
    "                    'TertiaryResolution' : 'category',\n",
    "                    'Flicker' : np.int64,\n",
    "                    'Keyframe' : 'category',\n",
    "                    'ImageRate' : 'category',\n",
    "                    'Quality' : 'category',\n",
    "                    'Sharpening' : np.int64,\n",
    "                    'Nonlinear' : 'category',\n",
    "                    'Mode' : 'category',\n",
    "                    'Compression': 'category',\n",
    "                    'KbpsLimit' : 'category',\n",
    "                    'WaitSeconds' : np.int64,\n",
    "                    'CollectSeconds' : np.int64,\n",
    "                    'TotalBytes': np.float64,\n",
    "                    'PrimaryBitsPerSecond': np.float64,\n",
    "                    #'SecondaryBitsPerSecond': np.float64,\n",
    "                    #'TertiaryBitsPerSecond': np.float64,\n",
    "                    'Status': str,\n",
    "                    'Message': str,\n",
    "                    'Test': 'category',\n",
    "                    'Detail': 'category',\n",
    "                    'Motion': 'category'}"
   ]
  },
  {
   "cell_type": "code",
   "execution_count": null,
   "metadata": {
    "collapsed": true
   },
   "outputs": [],
   "source": [
    "for key, val in column_datatypes.items():\n",
    "    try:\n",
    "        data[key] = data[key].astype(val)\n",
    "    except Exception as ee:\n",
    "        print(ee)\n",
    "        print(key)\n",
    "        print(val)"
   ]
  },
  {
   "cell_type": "markdown",
   "metadata": {},
   "source": [
    "# Take a subset of the data to work on"
   ]
  },
  {
   "cell_type": "markdown",
   "metadata": {},
   "source": [
    "First we have to figure out the subset...\n",
    "\n",
    "Roger recommended sticking with `Test == Base` and a single camera. Let's choose the camera with the most observations."
   ]
  },
  {
   "cell_type": "code",
   "execution_count": null,
   "metadata": {
    "collapsed": true
   },
   "outputs": [],
   "source": [
    "Base_gb_CameraName = data.loc[data['Test']=='Base'].groupby(['CameraName'])\n",
    "CameraName_highestCountOf_Base = Base_gb_CameraName.count()['Index'].argmax()\n",
    "data_BaseA3 = Base_gb_CameraName.get_group(CameraName_highestCountOf_Base)"
   ]
  },
  {
   "cell_type": "code",
   "execution_count": null,
   "metadata": {
    "scrolled": true
   },
   "outputs": [],
   "source": [
    "data_BaseA3.head()"
   ]
  },
  {
   "cell_type": "markdown",
   "metadata": {},
   "source": [
    "# Data exploration"
   ]
  },
  {
   "cell_type": "markdown",
   "metadata": {},
   "source": [
    "First make a histogram of some of the values... \n",
    "Things we may eventually want as features:\n",
    "\n",
    "* PrimaryResolution, SecondaryResolution, TertiaryResolution\n",
    "* Keyframe, ImageRate, Quality\n",
    "* Nonlinear, Mode, Compression\n",
    "* TotalBytes (are we predicitng this?)\n",
    "* Detail, Motion\n",
    "\n",
    "Labels??\n",
    "* PrimaryBitsPerSecond, SecondaryBitsPerSecond, TertiaryBitsPerSecond"
   ]
  },
  {
   "cell_type": "code",
   "execution_count": null,
   "metadata": {
    "collapsed": true
   },
   "outputs": [],
   "source": [
    "def hist_colVals(X, **kwargs):\n",
    "    \"\"\"\n",
    "    X : a categorical column of a data frame\n",
    "    \"\"\"\n",
    "    # Check if not categorical\n",
    "    #\n",
    "    #\n",
    "    # get value counts\n",
    "    vc = X.value_counts()\n",
    "    n = vc.shape[0]\n",
    "    xrange = np.arange(n)\n",
    "    plt.bar(xrange, vc.values, **kwargs)\n",
    "    plt.xticks(xrange, vc.index.tolist(), rotation=90)\n",
    "    return\n",
    "    \n",
    "    "
   ]
  },
  {
   "cell_type": "code",
   "execution_count": null,
   "metadata": {},
   "outputs": [],
   "source": [
    "# make a histogram of these\n",
    "categs = ['PrimaryResolution', 'SecondaryResolution', \n",
    "          'Keyframe', 'ImageRate', 'Quality',\n",
    "          'Detail', 'Motion']\n",
    "\n",
    "C = len(categs)\n",
    "ncols = 4\n",
    "nrows = np.int(np.ceil(C/5))\n",
    "figwidth = 20\n",
    "figheight = np.int(np.min([np.ceil(20/ncols*nrows), 20]))\n",
    "\n",
    "plt.subplots(nrows, ncols, figsize=(figwidth, figheight))\n",
    "for j, categ in enumerate(categs):\n",
    "    plt.subplot(nrows, ncols, j+1)\n",
    "    hist_colVals(data_BaseA3[categ])\n",
    "for j in range(C, nrows*ncols):\n",
    "    plt.subplot(nrows, ncols, j+1)\n",
    "    plt.axis('off')"
   ]
  }
 ],
 "metadata": {
  "kernelspec": {
   "display_name": "Python 3",
   "language": "python",
   "name": "python3"
  },
  "language_info": {
   "codemirror_mode": {
    "name": "ipython",
    "version": 3
   },
   "file_extension": ".py",
   "mimetype": "text/x-python",
   "name": "python",
   "nbconvert_exporter": "python",
   "pygments_lexer": "ipython3",
   "version": "3.6.1"
  }
 },
 "nbformat": 4,
 "nbformat_minor": 2
}
