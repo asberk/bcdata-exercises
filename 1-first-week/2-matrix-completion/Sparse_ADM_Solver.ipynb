{
 "cells": [
  {
   "cell_type": "markdown",
   "metadata": {},
   "source": [
    "# Import packages"
   ]
  },
  {
   "cell_type": "code",
   "execution_count": null,
   "metadata": {
    "collapsed": true
   },
   "outputs": [],
   "source": [
    "import scipy as sp\n",
    "import scipy.sparse as sparse"
   ]
  },
  {
   "cell_type": "code",
   "execution_count": null,
   "metadata": {
    "collapsed": true
   },
   "outputs": [],
   "source": [
    "import numpy as np\n",
    "import matplotlib.pyplot as plt\n",
    "%matplotlib inline"
   ]
  },
  {
   "cell_type": "code",
   "execution_count": null,
   "metadata": {
    "collapsed": true
   },
   "outputs": [],
   "source": [
    "from scipy.sparse.linalg import svds\n",
    "from sklearn.utils.extmath import randomized_svd"
   ]
  },
  {
   "cell_type": "code",
   "execution_count": null,
   "metadata": {
    "collapsed": true
   },
   "outputs": [],
   "source": [
    "def vec(A, stack=\"columns\"):\n",
    "    \"\"\"\n",
    "    vec(A) returns the vectorization of the matrix A\n",
    "    by stacking the columns (or rows, respectively) of A.\n",
    "    \"\"\"\n",
    "    if stack[0].lower() == 'c':\n",
    "        return A.T.ravel()\n",
    "    elif stack[0].lower() == 'r':\n",
    "        return A.ravel()\n",
    "    else:\n",
    "        raise ValueError('Expected \\'columns\\' or \\'rows\\' for argument stack.')"
   ]
  },
  {
   "cell_type": "code",
   "execution_count": null,
   "metadata": {
    "collapsed": true
   },
   "outputs": [],
   "source": [
    "def unvec(vecA, shape):\n",
    "    \"\"\"\n",
    "    _unvec(A, shape) returns the \"unvectorization\" of the\n",
    "    matrix A by unstacking the columns of vecA to return\n",
    "    the matrix A of shape shape.\n",
    "    \"\"\"\n",
    "    return vecA.reshape(shape, order='F')"
   ]
  },
  {
   "cell_type": "code",
   "execution_count": null,
   "metadata": {
    "collapsed": true
   },
   "outputs": [],
   "source": [
    "def vecIndicesFromMask(mask, stack='columns'):\n",
    "    \"\"\"\n",
    "    vecIndicesFromMask(mask, stack='columns')\n",
    "    returns the vector-indices corresponding to mask == 1.\n",
    "    This is operation is performed by first vectorizing the\n",
    "    mask array.\n",
    "    \"\"\"\n",
    "    return np.where(vec(mask, stack)==1)[0]"
   ]
  },
  {
   "cell_type": "code",
   "execution_count": null,
   "metadata": {
    "collapsed": true
   },
   "outputs": [],
   "source": [
    "def matIndicesFromMask(mask):\n",
    "    \"\"\"\n",
    "    matIndicesFromMask(mask) returns the matrix-indices \n",
    "    corresponding to mask == 1. This operation returns a \n",
    "    tuple containing a list of row indices and a list of \n",
    "    column indices.\n",
    "    \"\"\"\n",
    "    return np.where(mask.T==1)[::-1]"
   ]
  },
  {
   "cell_type": "code",
   "execution_count": null,
   "metadata": {
    "collapsed": true
   },
   "outputs": [],
   "source": [
    "def masked(A, mask):\n",
    "    \"\"\"\n",
    "    masked(A, mask) returns the \"observed entries\" of the\n",
    "    matrix A, as a vector, determined according to the \n",
    "    condition mask == 1 (alternatively, the entries for \n",
    "    which mask is True).\n",
    "    \"\"\"\n",
    "    return A[matIndicesFromMask(mask)]"
   ]
  },
  {
   "cell_type": "code",
   "execution_count": null,
   "metadata": {
    "collapsed": true
   },
   "outputs": [],
   "source": [
    "def sparseMatComSetup(r,m,n,p):\n",
    "    k = np.random.binomial(m*n, p)\n",
    "    Omega = (np.random.randint(m, size=k), np.random.randint(n, size=k))\n",
    "    U = np.random.randint(5, size=(m,r))\n",
    "    V = np.random.randint(5, size=(n,r))\n",
    "    observations = multiplyFromMatIdxList(U, V, Omega)\n",
    "    M_Omega = sparse.csr_matrix((observations, Omega), \n",
    "                                shape=(m,n))\n",
    "    return (U, V, Omega, observations, M_Omega)\n",
    "\n",
    "def multiplyFromMatIdxList(U, V, Omega):\n",
    "    d = Omega[0].size # nnz\n",
    "    M_Omega = np.zeros(d)\n",
    "    for i,j,k in zip(range(d), *Omega):\n",
    "        M_Omega[i] = U[j, :] @ V[k, :]\n",
    "    return M_Omega"
   ]
  },
  {
   "cell_type": "code",
   "execution_count": null,
   "metadata": {
    "collapsed": true
   },
   "outputs": [],
   "source": [
    "r = 3\n",
    "p = .5\n",
    "m = 50\n",
    "n = 100"
   ]
  },
  {
   "cell_type": "code",
   "execution_count": null,
   "metadata": {
    "collapsed": true
   },
   "outputs": [],
   "source": [
    "U, V, Omega, obs, M_Omega = sparseMatComSetup(r, m, n, p)"
   ]
  },
  {
   "cell_type": "code",
   "execution_count": null,
   "metadata": {
    "collapsed": true
   },
   "outputs": [],
   "source": []
  },
  {
   "cell_type": "code",
   "execution_count": null,
   "metadata": {
    "collapsed": true
   },
   "outputs": [],
   "source": []
  },
  {
   "cell_type": "code",
   "execution_count": null,
   "metadata": {
    "collapsed": true
   },
   "outputs": [],
   "source": []
  },
  {
   "cell_type": "code",
   "execution_count": null,
   "metadata": {
    "collapsed": true
   },
   "outputs": [],
   "source": []
  },
  {
   "cell_type": "code",
   "execution_count": null,
   "metadata": {
    "collapsed": true
   },
   "outputs": [],
   "source": [
    "def matricize_right(V, Omega, m=None, sparse=True, sparse_type=None):\n",
    "    \"\"\"\n",
    "    matricize_right(V, Omega, m=None, sparse=True, sparse_type=None) \n",
    "    turns the problem \n",
    "        M_Omega = (U @ V.T)_Omega \n",
    "    into the matrix problem\n",
    "        vec(M_Omega) = W @ vec(U)\n",
    "    where U is an m-by-r matrix, V is an n-by-r matrix and\n",
    "        vec([[1,2,3],[4,5,6]]) = [1,4,2,5,3,6].T\n",
    "\n",
    "    Input\n",
    "              V : the right n-by-r matrix\n",
    "          Omega : the mask / list of indices of observed entries\n",
    "         sparse : whether to return a sparse matrix (default: true)\n",
    "    sparse_type : what kind of sparse matrix to return (default: csr)\n",
    "\n",
    "    Output\n",
    "    V_op : The operator for V in matrix form so that vec(U @ V.T) is \n",
    "           equivalent to V_op @ vec(U).\n",
    "    \"\"\"\n",
    "    if isinstance(Omega, tuple):\n",
    "        Omega_i = Omega[0]\n",
    "        Omega_j = Omega[1]\n",
    "        if m is None:\n",
    "            raise ValueError('input number of columns for left' +\n",
    "                             ' factor is required when Omega is a ' +\n",
    "                             'list of indices')\n",
    "    elif isinstance(Omega, np.ndarray):\n",
    "        m = Omega.shape[0]\n",
    "        Omega_i, Omega_j = matIndicesFromMask(Omega)\n",
    "    else:\n",
    "        raise ValueError('type of Omega not recognized; ' + \n",
    "                         'expected tuple of indices or mask array.')\n",
    "    r = V.shape[1]\n",
    "    sizeU = m*r\n",
    "    if sparse:\n",
    "        sp_mat = _get_sparse_type(sparse_type)\n",
    "        row_idx = np.repeat(range(Omega_i.size), r)\n",
    "        col_idx = [np.arange(Omega_i[n], sizeU, m, dtype=int) \n",
    "                   for n in range(Omega_i.size)]\n",
    "        col_idx = np.concatenate(col_idx)\n",
    "        vals = np.concatenate([V[j,:] for j in Omega_j])\n",
    "        V_op = sp_mat((vals, (row_idx, col_idx)), shape=(Omega_i.size, sizeU))\n",
    "    else:\n",
    "        V_op = np.zeros((Omega_i.size, sizeU))\n",
    "        for n in range(Omega_i.size):\n",
    "            i = Omega_i[n]\n",
    "            j = Omega_j[n]\n",
    "            V_op[n, i::m] = V[j,:]\n",
    "    return V_op"
   ]
  },
  {
   "cell_type": "code",
   "execution_count": null,
   "metadata": {
    "collapsed": true
   },
   "outputs": [],
   "source": [
    "def matricize_left(U, Omega, n=None, sparse=True, sparse_type=None):\n",
    "    \"\"\"\n",
    "    matricize_left(U, Omega, n=None, sparse=True, sparse_type=None) \n",
    "    turns the problem\n",
    "        M_Omega = (U @ V.T)_Omega\n",
    "    into the matrix problem\n",
    "        vec(M_Omega) = W @ vec(V)\n",
    "    where U is an m-by-r matrix, V is an n-by-r matrix and\n",
    "        vec([[1,2,3],[4,5,6]]) = [1,4,2,5,3,6].T\n",
    "\n",
    "    Input\n",
    "              U : the left m-by-r matrix\n",
    "          Omega : the mask / list of indices of observed entries\n",
    "         sparse : whether to return a sparse matrix (default: true)\n",
    "    sparse_type : what kind of sparse matrix to return (default: csr)\n",
    "\n",
    "    Output\n",
    "    U_op : The operator for U in matrix form so that vec(U @ V.T) is \n",
    "           equivalent to U_op @ vec(V).\n",
    "    \"\"\"\n",
    "    if isinstance(Omega, tuple):\n",
    "        Omega_i = Omega[0]\n",
    "        Omega_j = Omega[1]\n",
    "        if n is None:\n",
    "            raise ValueError('input number of columns for right' +\n",
    "                             ' factor is required when Omega is a ' +\n",
    "                             'list of indices')\n",
    "    elif isinstance(Omega, np.ndarray):\n",
    "        n = Omega.shape[1]\n",
    "        Omega_i, Omega_j = matIndicesFromMask(Omega)\n",
    "    else:\n",
    "        raise ValueError('type of Omega not recognized; ' + \n",
    "                         'expected tuple of indices or mask array.')\n",
    "\n",
    "    r = U.shape[1]\n",
    "    sizeV = n*r\n",
    "\n",
    "    if sparse:\n",
    "        sp_mat = _get_sparse_type(sparse_type)\n",
    "        row_idx = np.repeat(range(Omega_j.size), r)\n",
    "        col_idx = [np.arange(Omega_j[idx], sizeV, n, dtype=int) \n",
    "                   for idx in range(Omega_j.size)]\n",
    "        col_idx = np.concatenate(col_idx)\n",
    "        vals = np.concatenate([U[i,:] for i in Omega_i])\n",
    "        U_op = sp_mat((vals, (row_idx, col_idx)), shape=(Omega_j.size, sizeV))\n",
    "    else:\n",
    "        U_op = np.zeros((Omega_j.size, sizeV))\n",
    "        for idx in range(Omega_j.size):\n",
    "            i = Omega_i[idx]\n",
    "            j = Omega_j[idx]\n",
    "            U_op[idx, j::n] = U[i,:]\n",
    "    return U_op"
   ]
  }
 ],
 "metadata": {
  "kernelspec": {
   "display_name": "Python 3",
   "language": "python",
   "name": "python3"
  },
  "language_info": {
   "codemirror_mode": {
    "name": "ipython",
    "version": 3
   },
   "file_extension": ".py",
   "mimetype": "text/x-python",
   "name": "python",
   "nbconvert_exporter": "python",
   "pygments_lexer": "ipython3",
   "version": "3.6.1"
  }
 },
 "nbformat": 4,
 "nbformat_minor": 2
}
